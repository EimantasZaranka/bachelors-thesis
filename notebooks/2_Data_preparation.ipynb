{
  "nbformat": 4,
  "nbformat_minor": 0,
  "metadata": {
    "colab": {
      "provenance": []
    },
    "kernelspec": {
      "name": "python3",
      "display_name": "Python 3"
    },
    "language_info": {
      "name": "python"
    }
  },
  "cells": [
    {
      "cell_type": "code",
      "execution_count": 67,
      "metadata": {
        "colab": {
          "base_uri": "https://localhost:8080/"
        },
        "id": "pdgmsgnBK6XW",
        "outputId": "66c5eff8-5160-40b9-a356-6287f57b015d"
      },
      "outputs": [
        {
          "output_type": "stream",
          "name": "stdout",
          "text": [
            "Drive already mounted at /content/drive; to attempt to forcibly remount, call drive.mount(\"/content/drive\", force_remount=True).\n"
          ]
        }
      ],
      "source": [
        "from google.colab import drive\n",
        "drive.mount('/content/drive')\n",
        "\n",
        "RANDOM_SEED = 42\n",
        "BASE = '/content/drive/MyDrive/Univerui/Bakalauras/'\n",
        "\n",
        "import pandas as pd\n",
        "import numpy as np\n",
        "\n",
        "Columns = (['duration','protocol_type','service','flag','src_bytes','dst_bytes','land','wrong_fragment','urgent','hot',\n",
        "            'num_failed_logins','logged_in','num_compromised','root_shell','su_attempted','num_root','num_file_creations',\n",
        "            'num_shells','num_access_files','num_outbound_cmds','is_host_login','is_guest_login','count','srv_count',\n",
        "            'serror_rate','srv_serror_rate','rerror_rate','srv_rerror_rate','same_srv_rate','diff_srv_rate','srv_diff_host_rate',\n",
        "            'dst_host_count','dst_host_srv_count','dst_host_same_srv_rate','dst_host_diff_srv_rate','dst_host_same_src_port_rate',\n",
        "            'dst_host_srv_diff_host_rate','dst_host_serror_rate','dst_host_srv_serror_rate','dst_host_rerror_rate',\n",
        "            'dst_host_srv_rerror_rate','attack','level'])\n",
        "\n",
        "train_df = pd.read_csv(BASE+'KDDTrain+.txt', sep = ',', encoding='utf-8', names=Columns)\n",
        "test_df = pd.read_csv(BASE+'KDDTest+.txt', sep=',', encoding='utf-8', names=Columns)"
      ]
    },
    {
      "cell_type": "code",
      "source": [
        "features_to_drop = ['land', 'root_shell', 'is_host_login',\n",
        "                    'num_outbound_cmds', 'level']\n",
        "\n",
        "skew_pos = ['duration', 'src_bytes','dst_bytes', 'wrong_fragment','urgent',\n",
        "            'hot', 'num_failed_logins', 'is_guest_login', 'count', 'srv_count',\n",
        "            'serror_rate', 'srv_serror_rate', 'rerror_rate', 'srv_rerror_rate',\n",
        "            'diff_srv_rate', 'srv_diff_host_rate', 'dst_host_diff_srv_rate',\n",
        "            'dst_host_same_src_port_rate', 'dst_host_srv_diff_host_rate',\n",
        "            'dst_host_serror_rate','dst_host_srv_serror_rate',\n",
        "            'dst_host_rerror_rate', 'dst_host_srv_rerror_rate']\n",
        "            \n",
        "skew_neg = ['same_srv_rate', 'dst_host_count']"
      ],
      "metadata": {
        "id": "ltlg0Z_VLIMN"
      },
      "execution_count": 68,
      "outputs": []
    },
    {
      "cell_type": "markdown",
      "source": [
        "# Converting multi class target to binary target"
      ],
      "metadata": {
        "id": "uloWd__5W6lA"
      }
    },
    {
      "cell_type": "code",
      "source": [
        "def attack_binarization(row):\n",
        "  if row['attack'] == 'normal':\n",
        "    return 'normal'\n",
        "  else:\n",
        "    return 'attack'\n",
        "\n",
        "train_df['attack'] = train_df.apply(lambda row: attack_binarization(row), axis=1)\n",
        "test_df['attack'] = test_df.apply(lambda row: attack_binarization(row), axis=1)"
      ],
      "metadata": {
        "id": "C9Ftq7yuNJU-"
      },
      "execution_count": 69,
      "outputs": []
    },
    {
      "cell_type": "markdown",
      "source": [
        "# Dropping columns"
      ],
      "metadata": {
        "id": "v9DEgLGvW_4h"
      }
    },
    {
      "cell_type": "code",
      "source": [
        "train_df.drop(features_to_drop, axis=1, inplace=True)\n",
        "test_df.drop(features_to_drop, axis=1, inplace=True)"
      ],
      "metadata": {
        "id": "JbL8PXHjNRwV"
      },
      "execution_count": 70,
      "outputs": []
    },
    {
      "cell_type": "markdown",
      "source": [
        "# Removing Skewness"
      ],
      "metadata": {
        "id": "oqg4UyC3XNLy"
      }
    },
    {
      "cell_type": "code",
      "source": [
        "for f in skew_pos+skew_neg:\n",
        "  train_df[f] = np.log(train_df[f]+1)\n",
        "  test_df[f] = np.log(test_df[f]+1)"
      ],
      "metadata": {
        "id": "mTLwKtcgNnpp"
      },
      "execution_count": 71,
      "outputs": []
    },
    {
      "cell_type": "markdown",
      "source": [
        "# Splitting targets from rest dataset"
      ],
      "metadata": {
        "id": "epz7nBFQXU7L"
      }
    },
    {
      "cell_type": "code",
      "source": [
        "X_train = train_df.drop('attack', axis=1)\n",
        "y_train = train_df.attack\n",
        "\n",
        "X_test = test_df.drop('attack', axis=1)\n",
        "y_test = test_df.attack"
      ],
      "metadata": {
        "id": "0Kbx8FdnWpj_"
      },
      "execution_count": 72,
      "outputs": []
    },
    {
      "cell_type": "markdown",
      "source": [
        "# One-Hot Encoding categorical features"
      ],
      "metadata": {
        "id": "UW7PSjOPXUFz"
      }
    },
    {
      "cell_type": "code",
      "source": [
        "categories = ['protocol_type', 'service', 'flag']\n",
        "train_categories = X_train[categories].copy(deep=True)\n",
        "test_categories = X_test[categories].copy(deep=True)\n",
        "\n",
        "X_train.drop(categories, axis=1, inplace=True)\n",
        "X_test.drop(categories, axis=1, inplace=True)"
      ],
      "metadata": {
        "id": "-idOCD-LX1rg"
      },
      "execution_count": 73,
      "outputs": []
    },
    {
      "cell_type": "markdown",
      "source": [
        "## Transforming service column to top 5 services and rest as other"
      ],
      "metadata": {
        "id": "qOBG7ZzAaEP6"
      }
    },
    {
      "cell_type": "code",
      "source": [
        "top_5 = ['http', 'private', 'telnet', 'ftp_data', 'smtp']"
      ],
      "metadata": {
        "id": "MSf-5w6caLXn"
      },
      "execution_count": 74,
      "outputs": []
    },
    {
      "cell_type": "code",
      "source": [
        "def service_top5(row, top_5):\n",
        "  if row['service'] in top_5:\n",
        "    return row['service']\n",
        "  else:\n",
        "    return 'other'\n",
        "\n",
        "train_categories['service'] = train_categories.apply(lambda row: service_top5(row, top_5), axis=1)\n",
        "test_categories['service'] = test_categories.apply(lambda row: service_top5(row, top_5), axis=1)"
      ],
      "metadata": {
        "id": "x4GJIEyObQEz"
      },
      "execution_count": 75,
      "outputs": []
    },
    {
      "cell_type": "code",
      "source": [
        "train_categories = pd.get_dummies(train_categories)\n",
        "test_categories = pd.get_dummies(test_categories)"
      ],
      "metadata": {
        "id": "Z3bxeiINb_q4"
      },
      "execution_count": 76,
      "outputs": []
    },
    {
      "cell_type": "markdown",
      "source": [
        "# Scalling train data"
      ],
      "metadata": {
        "id": "2hzF1IT5aLxv"
      }
    },
    {
      "cell_type": "code",
      "source": [
        "from sklearn.preprocessing import MinMaxScaler"
      ],
      "metadata": {
        "id": "e34C4BB0cXbf"
      },
      "execution_count": 77,
      "outputs": []
    },
    {
      "cell_type": "code",
      "source": [
        "scaler = MinMaxScaler()\n",
        "X_train = scaler.fit_transform(X_train)\n",
        "X_test = scaler.transform(X_test)"
      ],
      "metadata": {
        "id": "izqFE9ghcgkw"
      },
      "execution_count": 78,
      "outputs": []
    },
    {
      "cell_type": "code",
      "source": [
        "columns = scaler.get_feature_names_out()"
      ],
      "metadata": {
        "id": "6609u3n2c6oT"
      },
      "execution_count": 79,
      "outputs": []
    },
    {
      "cell_type": "code",
      "source": [
        "X_train = pd.DataFrame(X_train, columns=columns)\n",
        "X_test = pd.DataFrame(X_test, columns=columns)"
      ],
      "metadata": {
        "id": "_DVp7vqfdDWL"
      },
      "execution_count": 80,
      "outputs": []
    },
    {
      "cell_type": "markdown",
      "source": [
        "# Combining numeric and categorical features"
      ],
      "metadata": {
        "id": "kUGjVyXKaOrI"
      }
    },
    {
      "cell_type": "code",
      "source": [
        "X_test = pd.concat([X_test, test_categories],axis=1)\n",
        "X_train = pd.concat([X_train, train_categories],axis=1)"
      ],
      "metadata": {
        "id": "PryydNKrZHDc"
      },
      "execution_count": 81,
      "outputs": []
    },
    {
      "cell_type": "code",
      "source": [
        "X_test = pd.concat([X_test, y_test], axis=1)\n",
        "X_train = pd.concat([X_train, y_train], axis=1)"
      ],
      "metadata": {
        "id": "U41xEKKidrsR"
      },
      "execution_count": 82,
      "outputs": []
    },
    {
      "cell_type": "markdown",
      "source": [
        "# Label encoding target"
      ],
      "metadata": {
        "id": "1CzO0mHKaTRU"
      }
    },
    {
      "cell_type": "code",
      "source": [
        "from sklearn.preprocessing import LabelEncoder\n",
        "\n",
        "encoder = LabelEncoder()\n",
        "\n",
        "X_train['attack'] = encoder.fit_transform(X_train['attack'])\n",
        "X_test['attack'] = encoder.transform(X_test['attack'])"
      ],
      "metadata": {
        "id": "zMGu2fJuaU_P"
      },
      "execution_count": 86,
      "outputs": []
    },
    {
      "cell_type": "code",
      "source": [
        "encoder.classes_"
      ],
      "metadata": {
        "colab": {
          "base_uri": "https://localhost:8080/"
        },
        "id": "dszP1vqTenVf",
        "outputId": "ae106101-e4df-47fc-87df-cfdb38bb4e07"
      },
      "execution_count": 92,
      "outputs": [
        {
          "output_type": "execute_result",
          "data": {
            "text/plain": [
              "array(['attack', 'normal'], dtype=object)"
            ]
          },
          "metadata": {},
          "execution_count": 92
        }
      ]
    },
    {
      "cell_type": "markdown",
      "source": [
        "# Saving MinMaxScaler and LabelEncoder"
      ],
      "metadata": {
        "id": "-9OX-omLfUlN"
      }
    },
    {
      "cell_type": "code",
      "source": [
        "import pickle\n",
        "\n",
        "output_le = open(BASE+'label_encoder.pkl', 'wb')\n",
        "pickle.dump(encoder, output_le)\n",
        "output_le.close()\n",
        "\n",
        "output_scaler = open(BASE+'minmaxscaler.pkl', 'wb')\n",
        "pickle.dump(scaler, output_scaler)\n",
        "output_scaler.close()"
      ],
      "metadata": {
        "id": "OaCpeYrDfYq9"
      },
      "execution_count": 93,
      "outputs": []
    },
    {
      "cell_type": "markdown",
      "source": [
        "# Saving processed data"
      ],
      "metadata": {
        "id": "z3sSQ5-AaVuR"
      }
    },
    {
      "cell_type": "code",
      "source": [
        "X_train.to_csv(BASE+'train_data.csv', index=False)\n",
        "X_test.to_csv(BASE+'test_data.csv', index=False)"
      ],
      "metadata": {
        "id": "CDBb8DRtaXt8"
      },
      "execution_count": 94,
      "outputs": []
    },
    {
      "cell_type": "code",
      "source": [],
      "metadata": {
        "id": "H9CN7ME2f5tZ"
      },
      "execution_count": null,
      "outputs": []
    }
  ]
}